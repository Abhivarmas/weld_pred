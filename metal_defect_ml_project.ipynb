{
  "cells": [
    {
      "cell_type": "code",
      "execution_count": null,
      "metadata": {
        "id": "l9bea11qEfGH"
      },
      "outputs": [],
      "source": [
        "import pandas as pd\n",
        "import numpy as np\n",
        "from matplotlib import pyplot as plt\n",
        "import seaborn as sns\n",
        "from sklearn.metrics import accuracy_score\n"
      ]
    },
    {
      "cell_type": "code",
      "execution_count": null,
      "metadata": {
        "id": "l4Eg56CdEtFl"
      },
      "outputs": [],
      "source": [
        "df=pd.read_excel('//content//drive//MyDrive//Colab Notebooks//WeldRight Dataset.xlsx')"
      ]
    },
    {
      "cell_type": "code",
      "execution_count": null,
      "metadata": {
        "colab": {
          "base_uri": "https://localhost:8080/",
          "height": 921
        },
        "id": "rQl9dYW1GsvP",
        "outputId": "44c5a2a2-40b2-4a5a-b66f-50f98e13cdcf"
      },
      "outputs": [
        {
          "output_type": "execute_result",
          "data": {
            "text/plain": [
              "                  Employee Code                 Machine  \\\n",
              "0       (Office id of employee)  (Welding machine name)   \n",
              "1                        382617                  TWLD23   \n",
              "2                        382617                  TWLD23   \n",
              "3                        382617                  TWLD23   \n",
              "4                        382617                  TWLD23   \n",
              "...                         ...                     ...   \n",
              "827530                   391342                  TWLD23   \n",
              "827531                   391342                  TWLD23   \n",
              "827532                   391342                  TWLD23   \n",
              "827533                   391342                  TWLD23   \n",
              "827534                   391342                  TWLD23   \n",
              "\n",
              "                    Production  \\\n",
              "0       (Project order number)   \n",
              "1                    E15002965   \n",
              "2                    E15002965   \n",
              "3                    E15002965   \n",
              "4                    E15002965   \n",
              "...                        ...   \n",
              "827530                15003062   \n",
              "827531                15003062   \n",
              "827532                15003062   \n",
              "827533                15003062   \n",
              "827534                15003062   \n",
              "\n",
              "                                       Order Operation No  \\\n",
              "0       (This captures the activity to be performed by...   \n",
              "1                                                     240   \n",
              "2                                                     240   \n",
              "3                                                     240   \n",
              "4                                                     240   \n",
              "...                                                   ...   \n",
              "827530                                                240   \n",
              "827531                                                240   \n",
              "827532                                                240   \n",
              "827533                                                240   \n",
              "827534                                                240   \n",
              "\n",
              "                       Date                          Time      Current  \\\n",
              "0        (date of activity)  (Timestamp for the activity)  (In Ampere)   \n",
              "1       2022-09-10 00:00:00                   7:32:28:527         1.13   \n",
              "2       2022-09-10 00:00:00                    7:32:29:40         1.82   \n",
              "3       2022-09-10 00:00:00                   7:32:29:677         2.91   \n",
              "4       2022-09-10 00:00:00                   7:32:30:166         0.04   \n",
              "...                     ...                           ...          ...   \n",
              "827530  2022-08-29 00:00:00                   23:2:13:452         0.33   \n",
              "827531  2022-08-29 00:00:00                    23:2:14:46         0.34   \n",
              "827532  2022-08-29 00:00:00                   23:2:14:552        -0.86   \n",
              "827533  2022-08-29 00:00:00                   23:2:15:143         0.32   \n",
              "827534  2022-08-29 00:00:00                   23:2:15:646         0.74   \n",
              "\n",
              "                        Humidity          Temperature  \\\n",
              "0       (Relative humidity in %)  (in degree celsius)   \n",
              "1                             74                   23   \n",
              "2                             74                   23   \n",
              "3                             74                   23   \n",
              "4                             74                   23   \n",
              "...                          ...                  ...   \n",
              "827530                        58                   24   \n",
              "827531                        58                   24   \n",
              "827532                        58                   24   \n",
              "827533                        58                   24   \n",
              "827534                        57                   24   \n",
              "\n",
              "                             Flow  ... Unnamed: 78 Unnamed: 79 Unnamed: 80  \\\n",
              "0       (in liters per min (LPM))  ...         NaN         NaN         NaN   \n",
              "1                            0.01  ...         NaN         NaN         NaN   \n",
              "2                               0  ...         NaN         NaN         NaN   \n",
              "3                               0  ...         NaN         NaN         NaN   \n",
              "4                               0  ...         NaN         NaN         NaN   \n",
              "...                           ...  ...         ...         ...         ...   \n",
              "827530                          0  ...         NaN         NaN         NaN   \n",
              "827531                          0  ...         NaN         NaN         NaN   \n",
              "827532                       0.06  ...         NaN         NaN         NaN   \n",
              "827533                          0  ...         NaN         NaN         NaN   \n",
              "827534                       0.04  ...         NaN         NaN         NaN   \n",
              "\n",
              "        Unnamed: 81  Unnamed: 82  Unnamed: 83  Unnamed: 84  Unnamed: 85  \\\n",
              "0               NaN          NaN          NaN          NaN          NaN   \n",
              "1               NaN          NaN          NaN          NaN          NaN   \n",
              "2               NaN          NaN          NaN          NaN          NaN   \n",
              "3               NaN          NaN          NaN          NaN          NaN   \n",
              "4               NaN          NaN          NaN          NaN          NaN   \n",
              "...             ...          ...          ...          ...          ...   \n",
              "827530          NaN          NaN          NaN          NaN          NaN   \n",
              "827531          NaN          NaN          NaN          NaN          NaN   \n",
              "827532          NaN          NaN          NaN          NaN          NaN   \n",
              "827533          NaN          NaN          NaN          NaN          NaN   \n",
              "827534          NaN          NaN          NaN          NaN          NaN   \n",
              "\n",
              "        Unnamed: 86  Unnamed: 87  \n",
              "0               NaN          NaN  \n",
              "1               NaN          NaN  \n",
              "2               NaN          NaN  \n",
              "3               NaN          NaN  \n",
              "4               NaN          NaN  \n",
              "...             ...          ...  \n",
              "827530          NaN          NaN  \n",
              "827531          NaN          NaN  \n",
              "827532          NaN          NaN  \n",
              "827533          NaN          NaN  \n",
              "827534          NaN          NaN  \n",
              "\n",
              "[827535 rows x 88 columns]"
            ],
            "text/html": [
              "\n",
              "  <div id=\"df-3cd2ffe5-2e54-4c88-9c0f-4b2837c2ed9a\">\n",
              "    <div class=\"colab-df-container\">\n",
              "      <div>\n",
              "<style scoped>\n",
              "    .dataframe tbody tr th:only-of-type {\n",
              "        vertical-align: middle;\n",
              "    }\n",
              "\n",
              "    .dataframe tbody tr th {\n",
              "        vertical-align: top;\n",
              "    }\n",
              "\n",
              "    .dataframe thead th {\n",
              "        text-align: right;\n",
              "    }\n",
              "</style>\n",
              "<table border=\"1\" class=\"dataframe\">\n",
              "  <thead>\n",
              "    <tr style=\"text-align: right;\">\n",
              "      <th></th>\n",
              "      <th>Employee Code</th>\n",
              "      <th>Machine</th>\n",
              "      <th>Production</th>\n",
              "      <th>Order Operation No</th>\n",
              "      <th>Date</th>\n",
              "      <th>Time</th>\n",
              "      <th>Current</th>\n",
              "      <th>Humidity</th>\n",
              "      <th>Temperature</th>\n",
              "      <th>Flow</th>\n",
              "      <th>...</th>\n",
              "      <th>Unnamed: 78</th>\n",
              "      <th>Unnamed: 79</th>\n",
              "      <th>Unnamed: 80</th>\n",
              "      <th>Unnamed: 81</th>\n",
              "      <th>Unnamed: 82</th>\n",
              "      <th>Unnamed: 83</th>\n",
              "      <th>Unnamed: 84</th>\n",
              "      <th>Unnamed: 85</th>\n",
              "      <th>Unnamed: 86</th>\n",
              "      <th>Unnamed: 87</th>\n",
              "    </tr>\n",
              "  </thead>\n",
              "  <tbody>\n",
              "    <tr>\n",
              "      <th>0</th>\n",
              "      <td>(Office id of employee)</td>\n",
              "      <td>(Welding machine name)</td>\n",
              "      <td>(Project order number)</td>\n",
              "      <td>(This captures the activity to be performed by...</td>\n",
              "      <td>(date of activity)</td>\n",
              "      <td>(Timestamp for the activity)</td>\n",
              "      <td>(In Ampere)</td>\n",
              "      <td>(Relative humidity in %)</td>\n",
              "      <td>(in degree celsius)</td>\n",
              "      <td>(in liters per min (LPM))</td>\n",
              "      <td>...</td>\n",
              "      <td>NaN</td>\n",
              "      <td>NaN</td>\n",
              "      <td>NaN</td>\n",
              "      <td>NaN</td>\n",
              "      <td>NaN</td>\n",
              "      <td>NaN</td>\n",
              "      <td>NaN</td>\n",
              "      <td>NaN</td>\n",
              "      <td>NaN</td>\n",
              "      <td>NaN</td>\n",
              "    </tr>\n",
              "    <tr>\n",
              "      <th>1</th>\n",
              "      <td>382617</td>\n",
              "      <td>TWLD23</td>\n",
              "      <td>E15002965</td>\n",
              "      <td>240</td>\n",
              "      <td>2022-09-10 00:00:00</td>\n",
              "      <td>7:32:28:527</td>\n",
              "      <td>1.13</td>\n",
              "      <td>74</td>\n",
              "      <td>23</td>\n",
              "      <td>0.01</td>\n",
              "      <td>...</td>\n",
              "      <td>NaN</td>\n",
              "      <td>NaN</td>\n",
              "      <td>NaN</td>\n",
              "      <td>NaN</td>\n",
              "      <td>NaN</td>\n",
              "      <td>NaN</td>\n",
              "      <td>NaN</td>\n",
              "      <td>NaN</td>\n",
              "      <td>NaN</td>\n",
              "      <td>NaN</td>\n",
              "    </tr>\n",
              "    <tr>\n",
              "      <th>2</th>\n",
              "      <td>382617</td>\n",
              "      <td>TWLD23</td>\n",
              "      <td>E15002965</td>\n",
              "      <td>240</td>\n",
              "      <td>2022-09-10 00:00:00</td>\n",
              "      <td>7:32:29:40</td>\n",
              "      <td>1.82</td>\n",
              "      <td>74</td>\n",
              "      <td>23</td>\n",
              "      <td>0</td>\n",
              "      <td>...</td>\n",
              "      <td>NaN</td>\n",
              "      <td>NaN</td>\n",
              "      <td>NaN</td>\n",
              "      <td>NaN</td>\n",
              "      <td>NaN</td>\n",
              "      <td>NaN</td>\n",
              "      <td>NaN</td>\n",
              "      <td>NaN</td>\n",
              "      <td>NaN</td>\n",
              "      <td>NaN</td>\n",
              "    </tr>\n",
              "    <tr>\n",
              "      <th>3</th>\n",
              "      <td>382617</td>\n",
              "      <td>TWLD23</td>\n",
              "      <td>E15002965</td>\n",
              "      <td>240</td>\n",
              "      <td>2022-09-10 00:00:00</td>\n",
              "      <td>7:32:29:677</td>\n",
              "      <td>2.91</td>\n",
              "      <td>74</td>\n",
              "      <td>23</td>\n",
              "      <td>0</td>\n",
              "      <td>...</td>\n",
              "      <td>NaN</td>\n",
              "      <td>NaN</td>\n",
              "      <td>NaN</td>\n",
              "      <td>NaN</td>\n",
              "      <td>NaN</td>\n",
              "      <td>NaN</td>\n",
              "      <td>NaN</td>\n",
              "      <td>NaN</td>\n",
              "      <td>NaN</td>\n",
              "      <td>NaN</td>\n",
              "    </tr>\n",
              "    <tr>\n",
              "      <th>4</th>\n",
              "      <td>382617</td>\n",
              "      <td>TWLD23</td>\n",
              "      <td>E15002965</td>\n",
              "      <td>240</td>\n",
              "      <td>2022-09-10 00:00:00</td>\n",
              "      <td>7:32:30:166</td>\n",
              "      <td>0.04</td>\n",
              "      <td>74</td>\n",
              "      <td>23</td>\n",
              "      <td>0</td>\n",
              "      <td>...</td>\n",
              "      <td>NaN</td>\n",
              "      <td>NaN</td>\n",
              "      <td>NaN</td>\n",
              "      <td>NaN</td>\n",
              "      <td>NaN</td>\n",
              "      <td>NaN</td>\n",
              "      <td>NaN</td>\n",
              "      <td>NaN</td>\n",
              "      <td>NaN</td>\n",
              "      <td>NaN</td>\n",
              "    </tr>\n",
              "    <tr>\n",
              "      <th>...</th>\n",
              "      <td>...</td>\n",
              "      <td>...</td>\n",
              "      <td>...</td>\n",
              "      <td>...</td>\n",
              "      <td>...</td>\n",
              "      <td>...</td>\n",
              "      <td>...</td>\n",
              "      <td>...</td>\n",
              "      <td>...</td>\n",
              "      <td>...</td>\n",
              "      <td>...</td>\n",
              "      <td>...</td>\n",
              "      <td>...</td>\n",
              "      <td>...</td>\n",
              "      <td>...</td>\n",
              "      <td>...</td>\n",
              "      <td>...</td>\n",
              "      <td>...</td>\n",
              "      <td>...</td>\n",
              "      <td>...</td>\n",
              "      <td>...</td>\n",
              "    </tr>\n",
              "    <tr>\n",
              "      <th>827530</th>\n",
              "      <td>391342</td>\n",
              "      <td>TWLD23</td>\n",
              "      <td>15003062</td>\n",
              "      <td>240</td>\n",
              "      <td>2022-08-29 00:00:00</td>\n",
              "      <td>23:2:13:452</td>\n",
              "      <td>0.33</td>\n",
              "      <td>58</td>\n",
              "      <td>24</td>\n",
              "      <td>0</td>\n",
              "      <td>...</td>\n",
              "      <td>NaN</td>\n",
              "      <td>NaN</td>\n",
              "      <td>NaN</td>\n",
              "      <td>NaN</td>\n",
              "      <td>NaN</td>\n",
              "      <td>NaN</td>\n",
              "      <td>NaN</td>\n",
              "      <td>NaN</td>\n",
              "      <td>NaN</td>\n",
              "      <td>NaN</td>\n",
              "    </tr>\n",
              "    <tr>\n",
              "      <th>827531</th>\n",
              "      <td>391342</td>\n",
              "      <td>TWLD23</td>\n",
              "      <td>15003062</td>\n",
              "      <td>240</td>\n",
              "      <td>2022-08-29 00:00:00</td>\n",
              "      <td>23:2:14:46</td>\n",
              "      <td>0.34</td>\n",
              "      <td>58</td>\n",
              "      <td>24</td>\n",
              "      <td>0</td>\n",
              "      <td>...</td>\n",
              "      <td>NaN</td>\n",
              "      <td>NaN</td>\n",
              "      <td>NaN</td>\n",
              "      <td>NaN</td>\n",
              "      <td>NaN</td>\n",
              "      <td>NaN</td>\n",
              "      <td>NaN</td>\n",
              "      <td>NaN</td>\n",
              "      <td>NaN</td>\n",
              "      <td>NaN</td>\n",
              "    </tr>\n",
              "    <tr>\n",
              "      <th>827532</th>\n",
              "      <td>391342</td>\n",
              "      <td>TWLD23</td>\n",
              "      <td>15003062</td>\n",
              "      <td>240</td>\n",
              "      <td>2022-08-29 00:00:00</td>\n",
              "      <td>23:2:14:552</td>\n",
              "      <td>-0.86</td>\n",
              "      <td>58</td>\n",
              "      <td>24</td>\n",
              "      <td>0.06</td>\n",
              "      <td>...</td>\n",
              "      <td>NaN</td>\n",
              "      <td>NaN</td>\n",
              "      <td>NaN</td>\n",
              "      <td>NaN</td>\n",
              "      <td>NaN</td>\n",
              "      <td>NaN</td>\n",
              "      <td>NaN</td>\n",
              "      <td>NaN</td>\n",
              "      <td>NaN</td>\n",
              "      <td>NaN</td>\n",
              "    </tr>\n",
              "    <tr>\n",
              "      <th>827533</th>\n",
              "      <td>391342</td>\n",
              "      <td>TWLD23</td>\n",
              "      <td>15003062</td>\n",
              "      <td>240</td>\n",
              "      <td>2022-08-29 00:00:00</td>\n",
              "      <td>23:2:15:143</td>\n",
              "      <td>0.32</td>\n",
              "      <td>58</td>\n",
              "      <td>24</td>\n",
              "      <td>0</td>\n",
              "      <td>...</td>\n",
              "      <td>NaN</td>\n",
              "      <td>NaN</td>\n",
              "      <td>NaN</td>\n",
              "      <td>NaN</td>\n",
              "      <td>NaN</td>\n",
              "      <td>NaN</td>\n",
              "      <td>NaN</td>\n",
              "      <td>NaN</td>\n",
              "      <td>NaN</td>\n",
              "      <td>NaN</td>\n",
              "    </tr>\n",
              "    <tr>\n",
              "      <th>827534</th>\n",
              "      <td>391342</td>\n",
              "      <td>TWLD23</td>\n",
              "      <td>15003062</td>\n",
              "      <td>240</td>\n",
              "      <td>2022-08-29 00:00:00</td>\n",
              "      <td>23:2:15:646</td>\n",
              "      <td>0.74</td>\n",
              "      <td>57</td>\n",
              "      <td>24</td>\n",
              "      <td>0.04</td>\n",
              "      <td>...</td>\n",
              "      <td>NaN</td>\n",
              "      <td>NaN</td>\n",
              "      <td>NaN</td>\n",
              "      <td>NaN</td>\n",
              "      <td>NaN</td>\n",
              "      <td>NaN</td>\n",
              "      <td>NaN</td>\n",
              "      <td>NaN</td>\n",
              "      <td>NaN</td>\n",
              "      <td>NaN</td>\n",
              "    </tr>\n",
              "  </tbody>\n",
              "</table>\n",
              "<p>827535 rows × 88 columns</p>\n",
              "</div>\n",
              "      <button class=\"colab-df-convert\" onclick=\"convertToInteractive('df-3cd2ffe5-2e54-4c88-9c0f-4b2837c2ed9a')\"\n",
              "              title=\"Convert this dataframe to an interactive table.\"\n",
              "              style=\"display:none;\">\n",
              "        \n",
              "  <svg xmlns=\"http://www.w3.org/2000/svg\" height=\"24px\"viewBox=\"0 0 24 24\"\n",
              "       width=\"24px\">\n",
              "    <path d=\"M0 0h24v24H0V0z\" fill=\"none\"/>\n",
              "    <path d=\"M18.56 5.44l.94 2.06.94-2.06 2.06-.94-2.06-.94-.94-2.06-.94 2.06-2.06.94zm-11 1L8.5 8.5l.94-2.06 2.06-.94-2.06-.94L8.5 2.5l-.94 2.06-2.06.94zm10 10l.94 2.06.94-2.06 2.06-.94-2.06-.94-.94-2.06-.94 2.06-2.06.94z\"/><path d=\"M17.41 7.96l-1.37-1.37c-.4-.4-.92-.59-1.43-.59-.52 0-1.04.2-1.43.59L10.3 9.45l-7.72 7.72c-.78.78-.78 2.05 0 2.83L4 21.41c.39.39.9.59 1.41.59.51 0 1.02-.2 1.41-.59l7.78-7.78 2.81-2.81c.8-.78.8-2.07 0-2.86zM5.41 20L4 18.59l7.72-7.72 1.47 1.35L5.41 20z\"/>\n",
              "  </svg>\n",
              "      </button>\n",
              "      \n",
              "  <style>\n",
              "    .colab-df-container {\n",
              "      display:flex;\n",
              "      flex-wrap:wrap;\n",
              "      gap: 12px;\n",
              "    }\n",
              "\n",
              "    .colab-df-convert {\n",
              "      background-color: #E8F0FE;\n",
              "      border: none;\n",
              "      border-radius: 50%;\n",
              "      cursor: pointer;\n",
              "      display: none;\n",
              "      fill: #1967D2;\n",
              "      height: 32px;\n",
              "      padding: 0 0 0 0;\n",
              "      width: 32px;\n",
              "    }\n",
              "\n",
              "    .colab-df-convert:hover {\n",
              "      background-color: #E2EBFA;\n",
              "      box-shadow: 0px 1px 2px rgba(60, 64, 67, 0.3), 0px 1px 3px 1px rgba(60, 64, 67, 0.15);\n",
              "      fill: #174EA6;\n",
              "    }\n",
              "\n",
              "    [theme=dark] .colab-df-convert {\n",
              "      background-color: #3B4455;\n",
              "      fill: #D2E3FC;\n",
              "    }\n",
              "\n",
              "    [theme=dark] .colab-df-convert:hover {\n",
              "      background-color: #434B5C;\n",
              "      box-shadow: 0px 1px 3px 1px rgba(0, 0, 0, 0.15);\n",
              "      filter: drop-shadow(0px 1px 2px rgba(0, 0, 0, 0.3));\n",
              "      fill: #FFFFFF;\n",
              "    }\n",
              "  </style>\n",
              "\n",
              "      <script>\n",
              "        const buttonEl =\n",
              "          document.querySelector('#df-3cd2ffe5-2e54-4c88-9c0f-4b2837c2ed9a button.colab-df-convert');\n",
              "        buttonEl.style.display =\n",
              "          google.colab.kernel.accessAllowed ? 'block' : 'none';\n",
              "\n",
              "        async function convertToInteractive(key) {\n",
              "          const element = document.querySelector('#df-3cd2ffe5-2e54-4c88-9c0f-4b2837c2ed9a');\n",
              "          const dataTable =\n",
              "            await google.colab.kernel.invokeFunction('convertToInteractive',\n",
              "                                                     [key], {});\n",
              "          if (!dataTable) return;\n",
              "\n",
              "          const docLinkHtml = 'Like what you see? Visit the ' +\n",
              "            '<a target=\"_blank\" href=https://colab.research.google.com/notebooks/data_table.ipynb>data table notebook</a>'\n",
              "            + ' to learn more about interactive tables.';\n",
              "          element.innerHTML = '';\n",
              "          dataTable['output_type'] = 'display_data';\n",
              "          await google.colab.output.renderOutput(dataTable, element);\n",
              "          const docLink = document.createElement('div');\n",
              "          docLink.innerHTML = docLinkHtml;\n",
              "          element.appendChild(docLink);\n",
              "        }\n",
              "      </script>\n",
              "    </div>\n",
              "  </div>\n",
              "  "
            ]
          },
          "metadata": {},
          "execution_count": 3
        }
      ],
      "source": [
        "df"
      ]
    },
    {
      "cell_type": "code",
      "execution_count": null,
      "metadata": {
        "colab": {
          "base_uri": "https://localhost:8080/"
        },
        "id": "gy_yjhtoF74D",
        "outputId": "8cb7ab62-43a9-4b9e-fb22-f1dc2f3b2462"
      },
      "outputs": [
        {
          "output_type": "execute_result",
          "data": {
            "text/plain": [
              "No Defect               819552\n",
              "Tungsten Inclusion        4600\n",
              "Porosity                  1138\n",
              "No Defect77                220\n",
              "No Defect78                211\n",
              "No Defect76                158\n",
              "No Defect79                144\n",
              "No Defect75                140\n",
              "No Defect80                121\n",
              "No Defect73                108\n",
              "No Defect0                 106\n",
              "No Defect72                104\n",
              "No Defect81                102\n",
              "No Defect71                 93\n",
              "No Defect74                 81\n",
              "No Defect83                 77\n",
              "No Defect70                 67\n",
              "No Defect84                 62\n",
              "No Defect67                 59\n",
              "No Defect65                 51\n",
              "No Defect82                 48\n",
              "No Defect68                 46\n",
              "No Defect69                 45\n",
              "No Defect66                 40\n",
              "No Defect64                 31\n",
              "No Defect63                 24\n",
              "No Defect85                 21\n",
              "No Defect61                 15\n",
              "No Defect58                  9\n",
              "No Defect62                  7\n",
              "No Defect87                  7\n",
              "No Defect90                  7\n",
              "No Defect86                  7\n",
              "No Defect57                  6\n",
              "No Defect60                  4\n",
              "No Defect59                  4\n",
              "No Defect88                  2\n",
              "Tungsten Inclusion77         2\n",
              "Tungsten Inclusion78         2\n",
              "Tungsten Inclusion80         1\n",
              "Porosity80                   1\n",
              "No Defect40                  1\n",
              "Porosity75                   1\n",
              "No Defect99                  1\n",
              "Porosity76                   1\n",
              "Tungsten Inclusion71         1\n",
              "Porosity86                   1\n",
              "Tungsten Inclusion67         1\n",
              "Tungsten Inclusion75         1\n",
              "Tungsten Inclusion76         1\n",
              "Porosity71                   1\n",
              "Tungsten Inclusion72         1\n",
              "(if defect occurred)         1\n",
              "Name: Defect, dtype: int64"
            ]
          },
          "metadata": {},
          "execution_count": 4
        }
      ],
      "source": [
        "df['Defect'].value_counts()"
      ]
    },
    {
      "cell_type": "code",
      "execution_count": null,
      "metadata": {
        "colab": {
          "base_uri": "https://localhost:8080/"
        },
        "id": "zFGdPZfjIddI",
        "outputId": "85a95d06-9b7a-4065-93a0-a7651e37cb6e"
      },
      "outputs": [
        {
          "output_type": "execute_result",
          "data": {
            "text/plain": [
              "Index(['Employee Code', 'Machine', 'Production', 'Order Operation No', 'Date',\n",
              "       'Time', 'Current', 'Humidity', 'Temperature', 'Flow', 'Job Temp',\n",
              "       'Voltage', 'Defect', 'Unnamed: 13', 'Unnamed: 14', 'Unnamed: 15',\n",
              "       'Unnamed: 16', 'Unnamed: 17', 'Unnamed: 18', 'Unnamed: 19',\n",
              "       'Unnamed: 20', 'Unnamed: 21', 'Unnamed: 22', 'Unnamed: 23',\n",
              "       'Unnamed: 24', 'Unnamed: 25', 'Unnamed: 26', 'Unnamed: 27',\n",
              "       'Unnamed: 28', 'Unnamed: 29', 'Unnamed: 30', 'Unnamed: 31',\n",
              "       'Unnamed: 32', 'Unnamed: 33', 'Unnamed: 34', 'Unnamed: 35',\n",
              "       'Unnamed: 36', 'Unnamed: 37', 'Unnamed: 38', 'Unnamed: 39',\n",
              "       'Unnamed: 40', 'Unnamed: 41', 'Unnamed: 42', 'Unnamed: 43',\n",
              "       'Unnamed: 44', 'Unnamed: 45', 'Unnamed: 46', 'Unnamed: 47',\n",
              "       'Unnamed: 48', 'Unnamed: 49', 'Unnamed: 50', 'Unnamed: 51',\n",
              "       'Unnamed: 52', 'Unnamed: 53', 'Unnamed: 54', 'Unnamed: 55',\n",
              "       'Unnamed: 56', 'Unnamed: 57', 'Unnamed: 58', 'Unnamed: 59',\n",
              "       'Unnamed: 60', 'Unnamed: 61', 'Unnamed: 62', 'Unnamed: 63',\n",
              "       'Unnamed: 64', 'Unnamed: 65', 'Unnamed: 66', 'Unnamed: 67',\n",
              "       'Unnamed: 68', 'Unnamed: 69', 'Unnamed: 70', 'Unnamed: 71',\n",
              "       'Unnamed: 72', 'Unnamed: 73', 'Unnamed: 74', 'Unnamed: 75',\n",
              "       'Unnamed: 76', 'Unnamed: 77', 'Unnamed: 78', 'Unnamed: 79',\n",
              "       'Unnamed: 80', 'Unnamed: 81', 'Unnamed: 82', 'Unnamed: 83',\n",
              "       'Unnamed: 84', 'Unnamed: 85', 'Unnamed: 86', 'Unnamed: 87'],\n",
              "      dtype='object')"
            ]
          },
          "metadata": {},
          "execution_count": 5
        }
      ],
      "source": [
        "df.columns"
      ]
    },
    {
      "cell_type": "code",
      "execution_count": null,
      "metadata": {
        "id": "HNXA9U4gIjBe"
      },
      "outputs": [],
      "source": [
        "df1=df[['Current', 'Humidity', 'Temperature', 'Flow', 'Job Temp', 'Voltage', 'Defect']]"
      ]
    },
    {
      "cell_type": "code",
      "execution_count": null,
      "metadata": {
        "id": "jpIkAGuZJBVM"
      },
      "outputs": [],
      "source": [
        "df2=df1[df1['Defect']=='No Defect']\n",
        "df2=df2.sample(n=5000)"
      ]
    },
    {
      "cell_type": "code",
      "execution_count": null,
      "metadata": {
        "id": "T7KzZwGFKDnO"
      },
      "outputs": [],
      "source": [
        "df3=df1[df1['Defect']=='Tungsten Inclusion']\n",
        "df3=df3.sample(n=5000,replace=True,ignore_index=True)"
      ]
    },
    {
      "cell_type": "code",
      "execution_count": null,
      "metadata": {
        "id": "zSCx-OJ_KNQP"
      },
      "outputs": [],
      "source": [
        "\n",
        "df4=df1[df1['Defect']=='Porosity']\n",
        "df4=df4.sample(n=5000,replace=True,ignore_index=True)"
      ]
    },
    {
      "cell_type": "code",
      "execution_count": null,
      "metadata": {
        "id": "kqh8_EgoKZ2i"
      },
      "outputs": [],
      "source": [
        "df_f=pd.concat([df2,df3,df4])"
      ]
    },
    {
      "cell_type": "code",
      "execution_count": null,
      "metadata": {
        "id": "ZhCNVRHyLN9J"
      },
      "outputs": [],
      "source": [
        "df_f=df_f.sample(frac=1)"
      ]
    },
    {
      "cell_type": "code",
      "execution_count": null,
      "metadata": {
        "colab": {
          "base_uri": "https://localhost:8080/",
          "height": 423
        },
        "id": "IItY-AyZNgB3",
        "outputId": "9f7e0850-dea0-4632-9223-1716d41bc7bd"
      },
      "outputs": [
        {
          "output_type": "execute_result",
          "data": {
            "text/plain": [
              "       Current Humidity Temperature  Flow Job Temp Voltage              Defect\n",
              "4132     23.93       77          25  3.57     30.5       0            Porosity\n",
              "3811     13.07       76          25     0     31.2   -2.03  Tungsten Inclusion\n",
              "2060     35.68       81          25  1.51   1613.6  10.237  Tungsten Inclusion\n",
              "1665      9.18       74          25     0     32.7   5.876  Tungsten Inclusion\n",
              "175516   31.82       79          26     0       35  16.826           No Defect\n",
              "...        ...      ...         ...   ...      ...     ...                 ...\n",
              "2324     24.06       83          24  2.12     77.9   10.53  Tungsten Inclusion\n",
              "254172   16.76       74          23  0.92     40.3   8.965           No Defect\n",
              "1149     12.73       77          24  1.99     28.1   5.745  Tungsten Inclusion\n",
              "4299      9.85       72          24  1.77       28  12.168            Porosity\n",
              "2939     -0.89       78          25     0     74.1       0            Porosity\n",
              "\n",
              "[15000 rows x 7 columns]"
            ],
            "text/html": [
              "\n",
              "  <div id=\"df-be4ad113-ac33-438d-a7d1-363a8e20fe8d\">\n",
              "    <div class=\"colab-df-container\">\n",
              "      <div>\n",
              "<style scoped>\n",
              "    .dataframe tbody tr th:only-of-type {\n",
              "        vertical-align: middle;\n",
              "    }\n",
              "\n",
              "    .dataframe tbody tr th {\n",
              "        vertical-align: top;\n",
              "    }\n",
              "\n",
              "    .dataframe thead th {\n",
              "        text-align: right;\n",
              "    }\n",
              "</style>\n",
              "<table border=\"1\" class=\"dataframe\">\n",
              "  <thead>\n",
              "    <tr style=\"text-align: right;\">\n",
              "      <th></th>\n",
              "      <th>Current</th>\n",
              "      <th>Humidity</th>\n",
              "      <th>Temperature</th>\n",
              "      <th>Flow</th>\n",
              "      <th>Job Temp</th>\n",
              "      <th>Voltage</th>\n",
              "      <th>Defect</th>\n",
              "    </tr>\n",
              "  </thead>\n",
              "  <tbody>\n",
              "    <tr>\n",
              "      <th>4132</th>\n",
              "      <td>23.93</td>\n",
              "      <td>77</td>\n",
              "      <td>25</td>\n",
              "      <td>3.57</td>\n",
              "      <td>30.5</td>\n",
              "      <td>0</td>\n",
              "      <td>Porosity</td>\n",
              "    </tr>\n",
              "    <tr>\n",
              "      <th>3811</th>\n",
              "      <td>13.07</td>\n",
              "      <td>76</td>\n",
              "      <td>25</td>\n",
              "      <td>0</td>\n",
              "      <td>31.2</td>\n",
              "      <td>-2.03</td>\n",
              "      <td>Tungsten Inclusion</td>\n",
              "    </tr>\n",
              "    <tr>\n",
              "      <th>2060</th>\n",
              "      <td>35.68</td>\n",
              "      <td>81</td>\n",
              "      <td>25</td>\n",
              "      <td>1.51</td>\n",
              "      <td>1613.6</td>\n",
              "      <td>10.237</td>\n",
              "      <td>Tungsten Inclusion</td>\n",
              "    </tr>\n",
              "    <tr>\n",
              "      <th>1665</th>\n",
              "      <td>9.18</td>\n",
              "      <td>74</td>\n",
              "      <td>25</td>\n",
              "      <td>0</td>\n",
              "      <td>32.7</td>\n",
              "      <td>5.876</td>\n",
              "      <td>Tungsten Inclusion</td>\n",
              "    </tr>\n",
              "    <tr>\n",
              "      <th>175516</th>\n",
              "      <td>31.82</td>\n",
              "      <td>79</td>\n",
              "      <td>26</td>\n",
              "      <td>0</td>\n",
              "      <td>35</td>\n",
              "      <td>16.826</td>\n",
              "      <td>No Defect</td>\n",
              "    </tr>\n",
              "    <tr>\n",
              "      <th>...</th>\n",
              "      <td>...</td>\n",
              "      <td>...</td>\n",
              "      <td>...</td>\n",
              "      <td>...</td>\n",
              "      <td>...</td>\n",
              "      <td>...</td>\n",
              "      <td>...</td>\n",
              "    </tr>\n",
              "    <tr>\n",
              "      <th>2324</th>\n",
              "      <td>24.06</td>\n",
              "      <td>83</td>\n",
              "      <td>24</td>\n",
              "      <td>2.12</td>\n",
              "      <td>77.9</td>\n",
              "      <td>10.53</td>\n",
              "      <td>Tungsten Inclusion</td>\n",
              "    </tr>\n",
              "    <tr>\n",
              "      <th>254172</th>\n",
              "      <td>16.76</td>\n",
              "      <td>74</td>\n",
              "      <td>23</td>\n",
              "      <td>0.92</td>\n",
              "      <td>40.3</td>\n",
              "      <td>8.965</td>\n",
              "      <td>No Defect</td>\n",
              "    </tr>\n",
              "    <tr>\n",
              "      <th>1149</th>\n",
              "      <td>12.73</td>\n",
              "      <td>77</td>\n",
              "      <td>24</td>\n",
              "      <td>1.99</td>\n",
              "      <td>28.1</td>\n",
              "      <td>5.745</td>\n",
              "      <td>Tungsten Inclusion</td>\n",
              "    </tr>\n",
              "    <tr>\n",
              "      <th>4299</th>\n",
              "      <td>9.85</td>\n",
              "      <td>72</td>\n",
              "      <td>24</td>\n",
              "      <td>1.77</td>\n",
              "      <td>28</td>\n",
              "      <td>12.168</td>\n",
              "      <td>Porosity</td>\n",
              "    </tr>\n",
              "    <tr>\n",
              "      <th>2939</th>\n",
              "      <td>-0.89</td>\n",
              "      <td>78</td>\n",
              "      <td>25</td>\n",
              "      <td>0</td>\n",
              "      <td>74.1</td>\n",
              "      <td>0</td>\n",
              "      <td>Porosity</td>\n",
              "    </tr>\n",
              "  </tbody>\n",
              "</table>\n",
              "<p>15000 rows × 7 columns</p>\n",
              "</div>\n",
              "      <button class=\"colab-df-convert\" onclick=\"convertToInteractive('df-be4ad113-ac33-438d-a7d1-363a8e20fe8d')\"\n",
              "              title=\"Convert this dataframe to an interactive table.\"\n",
              "              style=\"display:none;\">\n",
              "        \n",
              "  <svg xmlns=\"http://www.w3.org/2000/svg\" height=\"24px\"viewBox=\"0 0 24 24\"\n",
              "       width=\"24px\">\n",
              "    <path d=\"M0 0h24v24H0V0z\" fill=\"none\"/>\n",
              "    <path d=\"M18.56 5.44l.94 2.06.94-2.06 2.06-.94-2.06-.94-.94-2.06-.94 2.06-2.06.94zm-11 1L8.5 8.5l.94-2.06 2.06-.94-2.06-.94L8.5 2.5l-.94 2.06-2.06.94zm10 10l.94 2.06.94-2.06 2.06-.94-2.06-.94-.94-2.06-.94 2.06-2.06.94z\"/><path d=\"M17.41 7.96l-1.37-1.37c-.4-.4-.92-.59-1.43-.59-.52 0-1.04.2-1.43.59L10.3 9.45l-7.72 7.72c-.78.78-.78 2.05 0 2.83L4 21.41c.39.39.9.59 1.41.59.51 0 1.02-.2 1.41-.59l7.78-7.78 2.81-2.81c.8-.78.8-2.07 0-2.86zM5.41 20L4 18.59l7.72-7.72 1.47 1.35L5.41 20z\"/>\n",
              "  </svg>\n",
              "      </button>\n",
              "      \n",
              "  <style>\n",
              "    .colab-df-container {\n",
              "      display:flex;\n",
              "      flex-wrap:wrap;\n",
              "      gap: 12px;\n",
              "    }\n",
              "\n",
              "    .colab-df-convert {\n",
              "      background-color: #E8F0FE;\n",
              "      border: none;\n",
              "      border-radius: 50%;\n",
              "      cursor: pointer;\n",
              "      display: none;\n",
              "      fill: #1967D2;\n",
              "      height: 32px;\n",
              "      padding: 0 0 0 0;\n",
              "      width: 32px;\n",
              "    }\n",
              "\n",
              "    .colab-df-convert:hover {\n",
              "      background-color: #E2EBFA;\n",
              "      box-shadow: 0px 1px 2px rgba(60, 64, 67, 0.3), 0px 1px 3px 1px rgba(60, 64, 67, 0.15);\n",
              "      fill: #174EA6;\n",
              "    }\n",
              "\n",
              "    [theme=dark] .colab-df-convert {\n",
              "      background-color: #3B4455;\n",
              "      fill: #D2E3FC;\n",
              "    }\n",
              "\n",
              "    [theme=dark] .colab-df-convert:hover {\n",
              "      background-color: #434B5C;\n",
              "      box-shadow: 0px 1px 3px 1px rgba(0, 0, 0, 0.15);\n",
              "      filter: drop-shadow(0px 1px 2px rgba(0, 0, 0, 0.3));\n",
              "      fill: #FFFFFF;\n",
              "    }\n",
              "  </style>\n",
              "\n",
              "      <script>\n",
              "        const buttonEl =\n",
              "          document.querySelector('#df-be4ad113-ac33-438d-a7d1-363a8e20fe8d button.colab-df-convert');\n",
              "        buttonEl.style.display =\n",
              "          google.colab.kernel.accessAllowed ? 'block' : 'none';\n",
              "\n",
              "        async function convertToInteractive(key) {\n",
              "          const element = document.querySelector('#df-be4ad113-ac33-438d-a7d1-363a8e20fe8d');\n",
              "          const dataTable =\n",
              "            await google.colab.kernel.invokeFunction('convertToInteractive',\n",
              "                                                     [key], {});\n",
              "          if (!dataTable) return;\n",
              "\n",
              "          const docLinkHtml = 'Like what you see? Visit the ' +\n",
              "            '<a target=\"_blank\" href=https://colab.research.google.com/notebooks/data_table.ipynb>data table notebook</a>'\n",
              "            + ' to learn more about interactive tables.';\n",
              "          element.innerHTML = '';\n",
              "          dataTable['output_type'] = 'display_data';\n",
              "          await google.colab.output.renderOutput(dataTable, element);\n",
              "          const docLink = document.createElement('div');\n",
              "          docLink.innerHTML = docLinkHtml;\n",
              "          element.appendChild(docLink);\n",
              "        }\n",
              "      </script>\n",
              "    </div>\n",
              "  </div>\n",
              "  "
            ]
          },
          "metadata": {},
          "execution_count": 12
        }
      ],
      "source": [
        "df_f"
      ]
    },
    {
      "cell_type": "code",
      "execution_count": null,
      "metadata": {
        "colab": {
          "base_uri": "https://localhost:8080/"
        },
        "id": "uq4SfcrGNqpX",
        "outputId": "0b99c3d0-efd3-464e-d82e-4df8e01ebf60"
      },
      "outputs": [
        {
          "output_type": "execute_result",
          "data": {
            "text/plain": [
              "array(['Porosity', 'Tungsten Inclusion', 'No Defect'], dtype=object)"
            ]
          },
          "metadata": {},
          "execution_count": 13
        }
      ],
      "source": [
        "df_f['Defect'].unique()"
      ]
    },
    {
      "cell_type": "code",
      "source": [
        "df_f.shape"
      ],
      "metadata": {
        "colab": {
          "base_uri": "https://localhost:8080/"
        },
        "id": "ArjPoTDrV1Di",
        "outputId": "71016edc-b8ef-4571-d83d-6560078a9a80"
      },
      "execution_count": null,
      "outputs": [
        {
          "output_type": "execute_result",
          "data": {
            "text/plain": [
              "(15000, 7)"
            ]
          },
          "metadata": {},
          "execution_count": 14
        }
      ]
    },
    {
      "cell_type": "code",
      "execution_count": null,
      "metadata": {
        "id": "dJF51ONMQDuG"
      },
      "outputs": [],
      "source": [
        "df_f['Defect']=df_f['Defect'].map({'No Defect':0, 'Tungsten Inclusion':1, 'Porosity':2})"
      ]
    },
    {
      "cell_type": "code",
      "execution_count": null,
      "metadata": {
        "colab": {
          "base_uri": "https://localhost:8080/"
        },
        "id": "gZw5SZGrSiDA",
        "outputId": "2936e2b9-4559-471b-a685-8fc687fd7719"
      },
      "outputs": [
        {
          "output_type": "execute_result",
          "data": {
            "text/plain": [
              "Current        0\n",
              "Humidity       0\n",
              "Temperature    0\n",
              "Flow           0\n",
              "Job Temp       0\n",
              "Voltage        0\n",
              "Defect         0\n",
              "dtype: int64"
            ]
          },
          "metadata": {},
          "execution_count": 16
        }
      ],
      "source": [
        "df_f.isnull().sum()"
      ]
    },
    {
      "cell_type": "code",
      "execution_count": null,
      "metadata": {
        "id": "I75CY6_CS8tj"
      },
      "outputs": [],
      "source": [
        "df_f.dropna(inplace=True)"
      ]
    },
    {
      "cell_type": "code",
      "execution_count": null,
      "metadata": {
        "colab": {
          "base_uri": "https://localhost:8080/"
        },
        "id": "9bVMJCrxTDqS",
        "outputId": "6fbe164c-a7d9-4f65-d69c-29cf4368d667"
      },
      "outputs": [
        {
          "output_type": "execute_result",
          "data": {
            "text/plain": [
              "0"
            ]
          },
          "metadata": {},
          "execution_count": 18
        }
      ],
      "source": [
        "df_f['Current'].isnull().sum()"
      ]
    },
    {
      "cell_type": "code",
      "source": [
        "df_f"
      ],
      "metadata": {
        "id": "yECI-FDcXBPB",
        "outputId": "cfac5e3b-5605-490a-ef49-b59b3dacb888",
        "colab": {
          "base_uri": "https://localhost:8080/",
          "height": 423
        }
      },
      "execution_count": null,
      "outputs": [
        {
          "output_type": "execute_result",
          "data": {
            "text/plain": [
              "       Current Humidity Temperature  Flow Job Temp Voltage  Defect\n",
              "4132     23.93       77          25  3.57     30.5       0       2\n",
              "3811     13.07       76          25     0     31.2   -2.03       1\n",
              "2060     35.68       81          25  1.51   1613.6  10.237       1\n",
              "1665      9.18       74          25     0     32.7   5.876       1\n",
              "175516   31.82       79          26     0       35  16.826       0\n",
              "...        ...      ...         ...   ...      ...     ...     ...\n",
              "2324     24.06       83          24  2.12     77.9   10.53       1\n",
              "254172   16.76       74          23  0.92     40.3   8.965       0\n",
              "1149     12.73       77          24  1.99     28.1   5.745       1\n",
              "4299      9.85       72          24  1.77       28  12.168       2\n",
              "2939     -0.89       78          25     0     74.1       0       2\n",
              "\n",
              "[15000 rows x 7 columns]"
            ],
            "text/html": [
              "\n",
              "  <div id=\"df-5503bf6b-5c24-4deb-a66a-8e203fd5d989\">\n",
              "    <div class=\"colab-df-container\">\n",
              "      <div>\n",
              "<style scoped>\n",
              "    .dataframe tbody tr th:only-of-type {\n",
              "        vertical-align: middle;\n",
              "    }\n",
              "\n",
              "    .dataframe tbody tr th {\n",
              "        vertical-align: top;\n",
              "    }\n",
              "\n",
              "    .dataframe thead th {\n",
              "        text-align: right;\n",
              "    }\n",
              "</style>\n",
              "<table border=\"1\" class=\"dataframe\">\n",
              "  <thead>\n",
              "    <tr style=\"text-align: right;\">\n",
              "      <th></th>\n",
              "      <th>Current</th>\n",
              "      <th>Humidity</th>\n",
              "      <th>Temperature</th>\n",
              "      <th>Flow</th>\n",
              "      <th>Job Temp</th>\n",
              "      <th>Voltage</th>\n",
              "      <th>Defect</th>\n",
              "    </tr>\n",
              "  </thead>\n",
              "  <tbody>\n",
              "    <tr>\n",
              "      <th>4132</th>\n",
              "      <td>23.93</td>\n",
              "      <td>77</td>\n",
              "      <td>25</td>\n",
              "      <td>3.57</td>\n",
              "      <td>30.5</td>\n",
              "      <td>0</td>\n",
              "      <td>2</td>\n",
              "    </tr>\n",
              "    <tr>\n",
              "      <th>3811</th>\n",
              "      <td>13.07</td>\n",
              "      <td>76</td>\n",
              "      <td>25</td>\n",
              "      <td>0</td>\n",
              "      <td>31.2</td>\n",
              "      <td>-2.03</td>\n",
              "      <td>1</td>\n",
              "    </tr>\n",
              "    <tr>\n",
              "      <th>2060</th>\n",
              "      <td>35.68</td>\n",
              "      <td>81</td>\n",
              "      <td>25</td>\n",
              "      <td>1.51</td>\n",
              "      <td>1613.6</td>\n",
              "      <td>10.237</td>\n",
              "      <td>1</td>\n",
              "    </tr>\n",
              "    <tr>\n",
              "      <th>1665</th>\n",
              "      <td>9.18</td>\n",
              "      <td>74</td>\n",
              "      <td>25</td>\n",
              "      <td>0</td>\n",
              "      <td>32.7</td>\n",
              "      <td>5.876</td>\n",
              "      <td>1</td>\n",
              "    </tr>\n",
              "    <tr>\n",
              "      <th>175516</th>\n",
              "      <td>31.82</td>\n",
              "      <td>79</td>\n",
              "      <td>26</td>\n",
              "      <td>0</td>\n",
              "      <td>35</td>\n",
              "      <td>16.826</td>\n",
              "      <td>0</td>\n",
              "    </tr>\n",
              "    <tr>\n",
              "      <th>...</th>\n",
              "      <td>...</td>\n",
              "      <td>...</td>\n",
              "      <td>...</td>\n",
              "      <td>...</td>\n",
              "      <td>...</td>\n",
              "      <td>...</td>\n",
              "      <td>...</td>\n",
              "    </tr>\n",
              "    <tr>\n",
              "      <th>2324</th>\n",
              "      <td>24.06</td>\n",
              "      <td>83</td>\n",
              "      <td>24</td>\n",
              "      <td>2.12</td>\n",
              "      <td>77.9</td>\n",
              "      <td>10.53</td>\n",
              "      <td>1</td>\n",
              "    </tr>\n",
              "    <tr>\n",
              "      <th>254172</th>\n",
              "      <td>16.76</td>\n",
              "      <td>74</td>\n",
              "      <td>23</td>\n",
              "      <td>0.92</td>\n",
              "      <td>40.3</td>\n",
              "      <td>8.965</td>\n",
              "      <td>0</td>\n",
              "    </tr>\n",
              "    <tr>\n",
              "      <th>1149</th>\n",
              "      <td>12.73</td>\n",
              "      <td>77</td>\n",
              "      <td>24</td>\n",
              "      <td>1.99</td>\n",
              "      <td>28.1</td>\n",
              "      <td>5.745</td>\n",
              "      <td>1</td>\n",
              "    </tr>\n",
              "    <tr>\n",
              "      <th>4299</th>\n",
              "      <td>9.85</td>\n",
              "      <td>72</td>\n",
              "      <td>24</td>\n",
              "      <td>1.77</td>\n",
              "      <td>28</td>\n",
              "      <td>12.168</td>\n",
              "      <td>2</td>\n",
              "    </tr>\n",
              "    <tr>\n",
              "      <th>2939</th>\n",
              "      <td>-0.89</td>\n",
              "      <td>78</td>\n",
              "      <td>25</td>\n",
              "      <td>0</td>\n",
              "      <td>74.1</td>\n",
              "      <td>0</td>\n",
              "      <td>2</td>\n",
              "    </tr>\n",
              "  </tbody>\n",
              "</table>\n",
              "<p>15000 rows × 7 columns</p>\n",
              "</div>\n",
              "      <button class=\"colab-df-convert\" onclick=\"convertToInteractive('df-5503bf6b-5c24-4deb-a66a-8e203fd5d989')\"\n",
              "              title=\"Convert this dataframe to an interactive table.\"\n",
              "              style=\"display:none;\">\n",
              "        \n",
              "  <svg xmlns=\"http://www.w3.org/2000/svg\" height=\"24px\"viewBox=\"0 0 24 24\"\n",
              "       width=\"24px\">\n",
              "    <path d=\"M0 0h24v24H0V0z\" fill=\"none\"/>\n",
              "    <path d=\"M18.56 5.44l.94 2.06.94-2.06 2.06-.94-2.06-.94-.94-2.06-.94 2.06-2.06.94zm-11 1L8.5 8.5l.94-2.06 2.06-.94-2.06-.94L8.5 2.5l-.94 2.06-2.06.94zm10 10l.94 2.06.94-2.06 2.06-.94-2.06-.94-.94-2.06-.94 2.06-2.06.94z\"/><path d=\"M17.41 7.96l-1.37-1.37c-.4-.4-.92-.59-1.43-.59-.52 0-1.04.2-1.43.59L10.3 9.45l-7.72 7.72c-.78.78-.78 2.05 0 2.83L4 21.41c.39.39.9.59 1.41.59.51 0 1.02-.2 1.41-.59l7.78-7.78 2.81-2.81c.8-.78.8-2.07 0-2.86zM5.41 20L4 18.59l7.72-7.72 1.47 1.35L5.41 20z\"/>\n",
              "  </svg>\n",
              "      </button>\n",
              "      \n",
              "  <style>\n",
              "    .colab-df-container {\n",
              "      display:flex;\n",
              "      flex-wrap:wrap;\n",
              "      gap: 12px;\n",
              "    }\n",
              "\n",
              "    .colab-df-convert {\n",
              "      background-color: #E8F0FE;\n",
              "      border: none;\n",
              "      border-radius: 50%;\n",
              "      cursor: pointer;\n",
              "      display: none;\n",
              "      fill: #1967D2;\n",
              "      height: 32px;\n",
              "      padding: 0 0 0 0;\n",
              "      width: 32px;\n",
              "    }\n",
              "\n",
              "    .colab-df-convert:hover {\n",
              "      background-color: #E2EBFA;\n",
              "      box-shadow: 0px 1px 2px rgba(60, 64, 67, 0.3), 0px 1px 3px 1px rgba(60, 64, 67, 0.15);\n",
              "      fill: #174EA6;\n",
              "    }\n",
              "\n",
              "    [theme=dark] .colab-df-convert {\n",
              "      background-color: #3B4455;\n",
              "      fill: #D2E3FC;\n",
              "    }\n",
              "\n",
              "    [theme=dark] .colab-df-convert:hover {\n",
              "      background-color: #434B5C;\n",
              "      box-shadow: 0px 1px 3px 1px rgba(0, 0, 0, 0.15);\n",
              "      filter: drop-shadow(0px 1px 2px rgba(0, 0, 0, 0.3));\n",
              "      fill: #FFFFFF;\n",
              "    }\n",
              "  </style>\n",
              "\n",
              "      <script>\n",
              "        const buttonEl =\n",
              "          document.querySelector('#df-5503bf6b-5c24-4deb-a66a-8e203fd5d989 button.colab-df-convert');\n",
              "        buttonEl.style.display =\n",
              "          google.colab.kernel.accessAllowed ? 'block' : 'none';\n",
              "\n",
              "        async function convertToInteractive(key) {\n",
              "          const element = document.querySelector('#df-5503bf6b-5c24-4deb-a66a-8e203fd5d989');\n",
              "          const dataTable =\n",
              "            await google.colab.kernel.invokeFunction('convertToInteractive',\n",
              "                                                     [key], {});\n",
              "          if (!dataTable) return;\n",
              "\n",
              "          const docLinkHtml = 'Like what you see? Visit the ' +\n",
              "            '<a target=\"_blank\" href=https://colab.research.google.com/notebooks/data_table.ipynb>data table notebook</a>'\n",
              "            + ' to learn more about interactive tables.';\n",
              "          element.innerHTML = '';\n",
              "          dataTable['output_type'] = 'display_data';\n",
              "          await google.colab.output.renderOutput(dataTable, element);\n",
              "          const docLink = document.createElement('div');\n",
              "          docLink.innerHTML = docLinkHtml;\n",
              "          element.appendChild(docLink);\n",
              "        }\n",
              "      </script>\n",
              "    </div>\n",
              "  </div>\n",
              "  "
            ]
          },
          "metadata": {},
          "execution_count": 19
        }
      ]
    },
    {
      "cell_type": "code",
      "execution_count": null,
      "metadata": {
        "id": "WMl_3AeYW4W5"
      },
      "outputs": [],
      "source": [
        "x=df_f.iloc[:,:-1].values\n",
        "y=df_f.iloc[:,-1].values\n"
      ]
    },
    {
      "cell_type": "code",
      "execution_count": null,
      "metadata": {
        "id": "CbckFv5oWHJH"
      },
      "outputs": [],
      "source": [
        "from sklearn.model_selection import train_test_split\n",
        "x_train,x_test,y_train,y_test=train_test_split(x,y,test_size=0.2,random_state=40)"
      ]
    },
    {
      "cell_type": "code",
      "execution_count": null,
      "metadata": {
        "colab": {
          "base_uri": "https://localhost:8080/"
        },
        "id": "VdC8cwsoXaWB",
        "outputId": "34cfe822-9579-42ba-9b95-a60a14cb810d"
      },
      "outputs": [
        {
          "output_type": "stream",
          "name": "stdout",
          "text": [
            "(12000,)\n",
            "(3000,)\n"
          ]
        }
      ],
      "source": [
        "print(y_train.shape)\n",
        "print(y_test.shape)\n"
      ]
    },
    {
      "cell_type": "code",
      "execution_count": null,
      "metadata": {
        "colab": {
          "base_uri": "https://localhost:8080/"
        },
        "id": "S1BZl-oCYHgW",
        "outputId": "46584e5c-e4bb-441a-aa1c-8ada4501ae47"
      },
      "outputs": [
        {
          "output_type": "stream",
          "name": "stdout",
          "text": [
            "(12000, 6)\n",
            "(3000, 6)\n"
          ]
        }
      ],
      "source": [
        "print(x_train.shape)\n",
        "print(x_test.shape)"
      ]
    },
    {
      "cell_type": "code",
      "execution_count": null,
      "metadata": {
        "id": "-ZxJg9QJZnB6"
      },
      "outputs": [],
      "source": [
        "from sklearn.neighbors import KNeighborsClassifier\n",
        "knn = KNeighborsClassifier(n_neighbors=1)"
      ]
    },
    {
      "cell_type": "code",
      "execution_count": null,
      "metadata": {
        "colab": {
          "base_uri": "https://localhost:8080/"
        },
        "id": "yyz5F9yXZ09a",
        "outputId": "279dd26e-e4a8-4ea6-f053-fcce340a57ef"
      },
      "outputs": [
        {
          "output_type": "execute_result",
          "data": {
            "text/plain": [
              "KNeighborsClassifier(n_neighbors=1)"
            ]
          },
          "metadata": {},
          "execution_count": 33
        }
      ],
      "source": [
        "knn.fit(x_train, y_train)"
      ]
    },
    {
      "cell_type": "code",
      "execution_count": null,
      "metadata": {
        "id": "_2oJKXIsaQB7"
      },
      "outputs": [],
      "source": [
        "y_pred=knn.predict(x_test)\n",
        "y_pred_train=knn.predict(x_train)"
      ]
    },
    {
      "cell_type": "code",
      "execution_count": null,
      "metadata": {
        "colab": {
          "base_uri": "https://localhost:8080/"
        },
        "id": "q7ByqN97aEHY",
        "outputId": "a5f33add-8ceb-4287-a678-991d68be0651"
      },
      "outputs": [
        {
          "output_type": "execute_result",
          "data": {
            "text/plain": [
              "0.8316666666666667"
            ]
          },
          "metadata": {},
          "execution_count": 35
        }
      ],
      "source": [
        "from sklearn.metrics import accuracy_score\n",
        "acc=accuracy_score(y_test,y_pred)\n",
        "acc"
      ]
    },
    {
      "cell_type": "code",
      "execution_count": null,
      "metadata": {
        "colab": {
          "base_uri": "https://localhost:8080/"
        },
        "id": "oCwsITeYbA4F",
        "outputId": "0f7ff56d-fec5-4df8-ab38-2f3dba6bcb59"
      },
      "outputs": [
        {
          "output_type": "execute_result",
          "data": {
            "text/plain": [
              "0.9989166666666667"
            ]
          },
          "metadata": {},
          "execution_count": 36
        }
      ],
      "source": [
        "from sklearn.metrics import accuracy_score\n",
        "acc1=accuracy_score(y_pred_train,y_train)\n",
        "acc1"
      ]
    },
    {
      "cell_type": "code",
      "execution_count": null,
      "metadata": {
        "id": "7EfOUoMewYgz",
        "colab": {
          "base_uri": "https://localhost:8080/",
          "height": 226
        },
        "outputId": "fcdf3596-c7a7-4ea9-dfb6-7bc35e43914b"
      },
      "outputs": [
        {
          "output_type": "error",
          "ename": "NameError",
          "evalue": "ignored",
          "traceback": [
            "\u001b[0;31m---------------------------------------------------------------------------\u001b[0m",
            "\u001b[0;31mNameError\u001b[0m                                 Traceback (most recent call last)",
            "\u001b[0;32m<ipython-input-27-c9006cb95599>\u001b[0m in \u001b[0;36m<module>\u001b[0;34m\u001b[0m\n\u001b[1;32m      1\u001b[0m \u001b[0;32mfrom\u001b[0m \u001b[0msklearn\u001b[0m\u001b[0;34m.\u001b[0m\u001b[0mmodel_selection\u001b[0m \u001b[0;32mimport\u001b[0m \u001b[0mGridSearchCV\u001b[0m\u001b[0;34m\u001b[0m\u001b[0;34m\u001b[0m\u001b[0m\n\u001b[1;32m      2\u001b[0m \u001b[0mgrid\u001b[0m \u001b[0;34m=\u001b[0m \u001b[0;34m{\u001b[0m\u001b[0;34m'n_neighbors'\u001b[0m\u001b[0;34m:\u001b[0m \u001b[0mnp\u001b[0m\u001b[0;34m.\u001b[0m\u001b[0marange\u001b[0m\u001b[0;34m(\u001b[0m\u001b[0;36m1\u001b[0m\u001b[0;34m,\u001b[0m\u001b[0;36m100\u001b[0m\u001b[0;34m,\u001b[0m\u001b[0;36m2\u001b[0m\u001b[0;34m)\u001b[0m\u001b[0;34m}\u001b[0m\u001b[0;34m\u001b[0m\u001b[0;34m\u001b[0m\u001b[0m\n\u001b[0;32m----> 3\u001b[0;31m \u001b[0mknn_gs\u001b[0m \u001b[0;34m=\u001b[0m \u001b[0mKNeighborsClassifier\u001b[0m\u001b[0;34m(\u001b[0m\u001b[0;34m)\u001b[0m\u001b[0;34m\u001b[0m\u001b[0;34m\u001b[0m\u001b[0m\n\u001b[0m\u001b[1;32m      4\u001b[0m \u001b[0mknn_grid\u001b[0m \u001b[0;34m=\u001b[0m \u001b[0mGridSearchCV\u001b[0m\u001b[0;34m(\u001b[0m\u001b[0mknn_gs\u001b[0m\u001b[0;34m,\u001b[0m\u001b[0mgrid\u001b[0m\u001b[0;34m,\u001b[0m\u001b[0mscoring\u001b[0m\u001b[0;34m=\u001b[0m\u001b[0;34m'accuracy'\u001b[0m\u001b[0;34m,\u001b[0m \u001b[0mcv\u001b[0m\u001b[0;34m=\u001b[0m\u001b[0;36m10\u001b[0m\u001b[0;34m)\u001b[0m\u001b[0;34m\u001b[0m\u001b[0;34m\u001b[0m\u001b[0m\n",
            "\u001b[0;31mNameError\u001b[0m: name 'KNeighborsClassifier' is not defined"
          ]
        }
      ],
      "source": [
        "from sklearn.model_selection import GridSearchCV\n",
        "grid = {'n_neighbors': np.arange(1,100,2)}\n",
        "knn_gs = KNeighborsClassifier()\n",
        "knn_grid = GridSearchCV(knn_gs,grid,scoring='accuracy', cv=10)"
      ]
    },
    {
      "cell_type": "code",
      "execution_count": null,
      "metadata": {
        "colab": {
          "base_uri": "https://localhost:8080/"
        },
        "id": "Ch8TTfrmxAny",
        "outputId": "2ba47591-bc3b-4b68-ed73-761f68f2b2a2"
      },
      "outputs": [
        {
          "output_type": "execute_result",
          "data": {
            "text/plain": [
              "GridSearchCV(cv=10, estimator=KNeighborsClassifier(),\n",
              "             param_grid={'n_neighbors': array([ 1,  3,  5,  7,  9, 11, 13, 15, 17, 19, 21, 23, 25, 27, 29, 31, 33,\n",
              "       35, 37, 39, 41, 43, 45, 47, 49, 51, 53, 55, 57, 59, 61, 63, 65, 67,\n",
              "       69, 71, 73, 75, 77, 79, 81, 83, 85, 87, 89, 91, 93, 95, 97, 99])},\n",
              "             scoring='accuracy')"
            ]
          },
          "metadata": {},
          "execution_count": 30
        }
      ],
      "source": [
        "knn_grid.fit(x_train, y_train)"
      ]
    },
    {
      "cell_type": "code",
      "execution_count": null,
      "metadata": {
        "colab": {
          "base_uri": "https://localhost:8080/"
        },
        "id": "mC1M_1kuxMFo",
        "outputId": "9d95a472-87d3-4400-ffea-1c67bb02522e"
      },
      "outputs": [
        {
          "output_type": "stream",
          "name": "stdout",
          "text": [
            "{'n_neighbors': 1}\n"
          ]
        }
      ],
      "source": [
        "print(knn_grid.best_params_)"
      ]
    },
    {
      "cell_type": "code",
      "source": [
        "from sklearn.ensemble import RandomForestClassifier\n",
        "ran_cl=RandomForestClassifier(n_estimators=400,criterion='gini',max_depth=21,min_samples_split=2,min_samples_leaf=2)\n",
        "ran_cl.fit(x_train,y_train)\n",
        "y_pred1=ran_cl.predict(x_test)"
      ],
      "metadata": {
        "id": "0VumcSz-uE35"
      },
      "execution_count": null,
      "outputs": []
    },
    {
      "cell_type": "code",
      "source": [
        "y_pred1_train=ran_cl.predict(x_train)"
      ],
      "metadata": {
        "id": "86vl9f0EvYdA"
      },
      "execution_count": null,
      "outputs": []
    },
    {
      "cell_type": "code",
      "source": [
        "acc2=accuracy_score(y_pred1,y_test)\n",
        "acc2"
      ],
      "metadata": {
        "colab": {
          "base_uri": "https://localhost:8080/"
        },
        "id": "9o4erFORu970",
        "outputId": "cdd5b47d-41e5-4800-b4a3-f0df219537ec"
      },
      "execution_count": null,
      "outputs": [
        {
          "output_type": "execute_result",
          "data": {
            "text/plain": [
              "0.874"
            ]
          },
          "metadata": {},
          "execution_count": 24
        }
      ]
    },
    {
      "cell_type": "code",
      "source": [
        "\n",
        "acc3=accuracy_score(y_pred1_train,y_train)\n",
        "acc3"
      ],
      "metadata": {
        "colab": {
          "base_uri": "https://localhost:8080/"
        },
        "id": "r99cAdRkvRjb",
        "outputId": "aad89b97-12a6-4c6c-fcc3-40d44e8f4b8d"
      },
      "execution_count": null,
      "outputs": [
        {
          "output_type": "execute_result",
          "data": {
            "text/plain": [
              "0.9739166666666667"
            ]
          },
          "metadata": {},
          "execution_count": 25
        }
      ]
    },
    {
      "cell_type": "code",
      "source": [
        "from sklearn.metrics import f1_score\n",
        "f_score= f1_score(y_pred1,y_test,average='weighted')\n",
        "f_score"
      ],
      "metadata": {
        "colab": {
          "base_uri": "https://localhost:8080/"
        },
        "id": "qo0V-3YLDfHR",
        "outputId": "eae9e2c9-2b8e-4a05-b1fa-c41b736395f2"
      },
      "execution_count": null,
      "outputs": [
        {
          "output_type": "execute_result",
          "data": {
            "text/plain": [
              "0.8764088622827577"
            ]
          },
          "metadata": {},
          "execution_count": 27
        }
      ]
    },
    {
      "cell_type": "code",
      "source": [
        "import pickle\n",
        "\n",
        "pickle.dump(ran_cl,open('saved_metal_model','wb'))\n",
        "\n",
        "\n",
        "\n",
        "\n",
        "\n"
      ],
      "metadata": {
        "id": "YHww240ZELmI"
      },
      "execution_count": null,
      "outputs": []
    },
    {
      "cell_type": "code",
      "source": [
        "model=pickle.load(open('saved_metal_model','rb'))"
      ],
      "metadata": {
        "id": "pFZ1LYSXGGJf"
      },
      "execution_count": null,
      "outputs": []
    },
    {
      "cell_type": "code",
      "source": [
        "model.predict(x_test)"
      ],
      "metadata": {
        "colab": {
          "base_uri": "https://localhost:8080/"
        },
        "id": "Tsk3s9SQNF0l",
        "outputId": "acfbd9da-4434-44bd-beaf-9c3a868dbae5"
      },
      "execution_count": null,
      "outputs": [
        {
          "output_type": "execute_result",
          "data": {
            "text/plain": [
              "array([2, 0, 2, ..., 0, 1, 2])"
            ]
          },
          "metadata": {},
          "execution_count": 175
        }
      ]
    }
  ],
  "metadata": {
    "accelerator": "GPU",
    "colab": {
      "collapsed_sections": [],
      "provenance": []
    },
    "gpuClass": "standard",
    "kernelspec": {
      "display_name": "Python 3",
      "name": "python3"
    },
    "language_info": {
      "name": "python"
    }
  },
  "nbformat": 4,
  "nbformat_minor": 0
}